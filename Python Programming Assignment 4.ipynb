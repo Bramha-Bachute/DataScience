{
 "cells": [
  {
   "cell_type": "code",
   "execution_count": 2,
   "id": "09ecaa5d",
   "metadata": {},
   "outputs": [
    {
     "name": "stdout",
     "output_type": "stream",
     "text": [
      "Enter a number for Factorial: 5\n",
      "120\n"
     ]
    }
   ],
   "source": [
    "# Q.1 Write a Python Program to Find the Factorial of a Number?\n",
    "\n",
    "n = int(input(\"Enter a number for Factorial: \"))\n",
    "\n",
    "factorial = 1\n",
    "\n",
    "for i in range(n+1):\n",
    "    if i>0:\n",
    "        factorial = factorial*i\n",
    "        \n",
    "print(factorial)"
   ]
  },
  {
   "cell_type": "code",
   "execution_count": 4,
   "id": "050be188",
   "metadata": {},
   "outputs": [
    {
     "name": "stdout",
     "output_type": "stream",
     "text": [
      "Enter a number for Table: 10\n",
      "10\n",
      "20\n",
      "30\n",
      "40\n",
      "50\n",
      "60\n",
      "70\n",
      "80\n",
      "90\n",
      "100\n"
     ]
    }
   ],
   "source": [
    "# Q.2 Write a Python Program to Display the multiplication Table?\n",
    "\n",
    "n = int(input(\"Enter a number for Table: \"))\n",
    "\n",
    "for i in range(11):\n",
    "    if i>0:\n",
    "        print(i*n)\n",
    "        "
   ]
  },
  {
   "cell_type": "code",
   "execution_count": 10,
   "id": "df2a47da",
   "metadata": {},
   "outputs": [],
   "source": [
    "# Q.3 Write a Python Program to Print the Fibonacci sequence?\n",
    "\n",
    "n1 = 0\n",
    "n2 = 1\n",
    "\n",
    "if n1<=1:\n",
    "    print(n1-1,)"
   ]
  },
  {
   "cell_type": "code",
   "execution_count": 15,
   "id": "7e340d4d",
   "metadata": {},
   "outputs": [
    {
     "name": "stdout",
     "output_type": "stream",
     "text": [
      "Number for length of Series: 20\n",
      "The fibonacci sequence of the numbers is:\n",
      "0\n",
      "1\n",
      "1\n",
      "2\n",
      "3\n",
      "5\n",
      "8\n",
      "13\n",
      "21\n",
      "34\n",
      "55\n",
      "89\n",
      "144\n",
      "233\n",
      "377\n",
      "610\n",
      "987\n",
      "1597\n",
      "2584\n",
      "4181\n"
     ]
    }
   ],
   "source": [
    "# Q.4 Write a Python Program to Check Armstrong Number?\n",
    "\n",
    "n = int(input (\"Number for length of Series: \"))\n",
    "\n",
    "n1=0\n",
    "n2=1\n",
    "\n",
    "count=0\n",
    "\n",
    "if n <= 0:  \n",
    "    print (\"Please enter positive integer number\")  \n",
    "    \n",
    "elif n == 1:  \n",
    "    print (\"The Fibonacci sequence of the numbers up to\", n_terms, \": \")  \n",
    "    print(n1)\n",
    "\n",
    "else:  \n",
    "    print (\"The fibonacci sequence of the numbers is:\")\n",
    "    while count < n:  \n",
    "        print(n1)  \n",
    "        nth = n1 + n2   \n",
    "        n1 = n2  \n",
    "        n2 = nth  \n",
    "        count += 1  "
   ]
  },
  {
   "cell_type": "code",
   "execution_count": 18,
   "id": "fd08ac6c",
   "metadata": {},
   "outputs": [
    {
     "name": "stdout",
     "output_type": "stream",
     "text": [
      "Enter first num: 10\n",
      "Enter second num: 1000\n",
      "Armstrong Number is:  153\n",
      "Armstrong Number is:  370\n",
      "Armstrong Number is:  371\n",
      "Armstrong Number is:  407\n"
     ]
    }
   ],
   "source": [
    "# Q.5 Write a Python Program to Find Armstrong Number in an Interval?\n",
    "\n",
    "n1 = int(input('Enter first num: '))\n",
    "n2 = int(input('Enter second num: '))\n",
    "\n",
    "for i in range(n1,n2):\n",
    "    cube = 0\n",
    "    for j in str(i):\n",
    "        cube += (int(j)**3)\n",
    "\n",
    "    if cube == int(i):\n",
    "        print('Armstrong Number is: ', i)"
   ]
  },
  {
   "cell_type": "code",
   "execution_count": 1,
   "id": "4e994d41",
   "metadata": {},
   "outputs": [
    {
     "name": "stdout",
     "output_type": "stream",
     "text": [
      "Enter a num: 10\n",
      "Sum of Number is:  55\n"
     ]
    }
   ],
   "source": [
    "# Q.6 Write a Python Program to Find the Sum of Natural Numbers?\n",
    "\n",
    "n = int(input('Enter a num: '))\n",
    "\n",
    "sum=0\n",
    "for i in range(n+1):\n",
    "    if i > 0:\n",
    "        sum += i\n",
    "        \n",
    "print('Sum of Number is: ', sum)"
   ]
  }
 ],
 "metadata": {
  "kernelspec": {
   "display_name": "Python 3 (ipykernel)",
   "language": "python",
   "name": "python3"
  },
  "language_info": {
   "codemirror_mode": {
    "name": "ipython",
    "version": 3
   },
   "file_extension": ".py",
   "mimetype": "text/x-python",
   "name": "python",
   "nbconvert_exporter": "python",
   "pygments_lexer": "ipython3",
   "version": "3.9.7"
  }
 },
 "nbformat": 4,
 "nbformat_minor": 5
}
