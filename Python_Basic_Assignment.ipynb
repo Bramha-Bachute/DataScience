{
 "cells": [
  {
   "cell_type": "code",
   "execution_count": null,
   "id": "957b2836",
   "metadata": {},
   "outputs": [],
   "source": [
    "# Q.1 What does an empty dictionary's code look like?\n",
    "\n",
    "{}"
   ]
  },
  {
   "cell_type": "code",
   "execution_count": null,
   "id": "16a4596d",
   "metadata": {},
   "outputs": [],
   "source": [
    "# Q.2 What is the value of a dictionary value with the key 'foo' and the value 42?\n",
    "\n",
    "{'foo':42}"
   ]
  },
  {
   "cell_type": "code",
   "execution_count": null,
   "id": "c9c820f8",
   "metadata": {},
   "outputs": [],
   "source": [
    "# Q.3 What is the most significant distinction between a dictionary and a list?\n",
    "\n",
    "List item are accessed by index while dictionary items are access by key"
   ]
  },
  {
   "cell_type": "code",
   "execution_count": null,
   "id": "3e37be61",
   "metadata": {},
   "outputs": [],
   "source": [
    "# Q.4 What happens if you try to access spam['foo'] if spam is {'bar': 100}?\n",
    "\n",
    "it will gives a keyerror for 'foo'"
   ]
  },
  {
   "cell_type": "code",
   "execution_count": null,
   "id": "fa09ac7c",
   "metadata": {},
   "outputs": [],
   "source": [
    "# Q.5 If a dictionary is stored in spam, what is the difference between the expressions 'cat' in spam and 'cat' in spam.keys()?\n",
    "\n",
    "both are same, nothing different"
   ]
  },
  {
   "cell_type": "code",
   "execution_count": null,
   "id": "0b63e551",
   "metadata": {},
   "outputs": [],
   "source": [
    "#Q.6 is repeated of Q.5"
   ]
  },
  {
   "cell_type": "code",
   "execution_count": null,
   "id": "bedb1ca3",
   "metadata": {},
   "outputs": [],
   "source": [
    "# Q.7 What is a shortcut for the following code?\n",
    "\n",
    "if 'color' not in spam, spam['color']='black'\n",
    "\n",
    "spam.setdefault('color', 'black')\n"
   ]
  },
  {
   "cell_type": "code",
   "execution_count": 9,
   "id": "923b0f6f",
   "metadata": {},
   "outputs": [
    {
     "name": "stdout",
     "output_type": "stream",
     "text": [
      "'pretty print'\n"
     ]
    }
   ],
   "source": [
    "# Q.8 How do you \"pretty print\" dictionary values using which module and function?\n",
    "\n",
    "import pprint\n",
    "\n",
    "d = {'pp':'pretty print'}\n",
    "\n",
    "for i in d.values():\n",
    "    pprint.pprint(i)"
   ]
  }
 ],
 "metadata": {
  "kernelspec": {
   "display_name": "Python 3 (ipykernel)",
   "language": "python",
   "name": "python3"
  },
  "language_info": {
   "codemirror_mode": {
    "name": "ipython",
    "version": 3
   },
   "file_extension": ".py",
   "mimetype": "text/x-python",
   "name": "python",
   "nbconvert_exporter": "python",
   "pygments_lexer": "ipython3",
   "version": "3.9.7"
  }
 },
 "nbformat": 4,
 "nbformat_minor": 5
}
