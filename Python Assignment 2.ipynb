{
 "cells": [
  {
   "cell_type": "markdown",
   "id": "714e506f",
   "metadata": {},
   "source": [
    "1.What are the two values of the Boolean data type? How do you write them?"
   ]
  },
  {
   "cell_type": "markdown",
   "id": "8e9e46fe",
   "metadata": {},
   "source": [
    "True = 1 and False = 0"
   ]
  },
  {
   "cell_type": "markdown",
   "id": "d67a2ec4",
   "metadata": {},
   "source": [
    "2. What are the three different types of Boolean operators?"
   ]
  },
  {
   "cell_type": "markdown",
   "id": "e0f3d387",
   "metadata": {},
   "source": [
    "== equal to, >= Greater than or equal to, <= less than or equal to, != not equal to"
   ]
  },
  {
   "cell_type": "markdown",
   "id": "58b3f234",
   "metadata": {},
   "source": [
    "3. Make a list of each Boolean operator's truth tables (i.e. every possible combination of Boolean\n",
    "values for the operator and what it evaluate )."
   ]
  },
  {
   "cell_type": "raw",
   "id": "919925c4",
   "metadata": {},
   "source": [
    "True = 1 and False = 0\n",
    "\n",
    "condition1 condition2     Value if used AND operator               value if used OR operator \n",
    "   1           1              1(If both cond are true)              1( if any of the one is true)\n",
    "   1           0              0(if any of the cond is false)        1(if any one cond is true)\n",
    "   0           1              0(if any one cond is true)            1(if any one cond is true)\n",
    "   0           0              0(if both cond are false)             0( if both cond are false)"
   ]
  },
  {
   "cell_type": "raw",
   "id": "f4dfbae2",
   "metadata": {},
   "source": [
    "4. What are the values of the following expressions?                  ANS\n",
    "(5 > 4) and (3 == 5)                                                  False\n",
    "not (5 > 4)                                                           False\n",
    "(5 > 4) or (3 == 5)                                                   True\n",
    "not ((5 > 4) or (3 == 5))                                             True\n",
    "(True and True) and (True == False)                                   False\n",
    "(not False) or (not True)                                             True"
   ]
  },
  {
   "cell_type": "markdown",
   "id": "7db9a25b",
   "metadata": {},
   "source": [
    "5. What are the six comparison operators?"
   ]
  },
  {
   "cell_type": "raw",
   "id": "bff420ff",
   "metadata": {},
   "source": [
    "== equal to\n",
    "> greater than\n",
    "< less than\n",
    "!= not equal to\n",
    ">= Greater Than or equal to\n",
    "<= Less Than or equal to"
   ]
  },
  {
   "cell_type": "markdown",
   "id": "893c3a23",
   "metadata": {},
   "source": [
    "6. How do you tell the difference between the equal to and assignment operators?Describe a\n",
    "condition and when you would use one."
   ]
  },
  {
   "cell_type": "raw",
   "id": "b527dbdd",
   "metadata": {},
   "source": [
    "Assignment operator is used to assign a value to variable however \n",
    "equal to is conditional operator that is used to compare the two values by value and type of data."
   ]
  },
  {
   "cell_type": "raw",
   "id": "01dac40e",
   "metadata": {},
   "source": [
    "7. 7. Identify the three blocks in this code:\n",
    "spam = 0\n",
    "if spam == 10:\n",
    "    print(\"eggs\")\n",
    "if spam > 5:\n",
    "    print(\"bacon\")\n",
    "else:\n",
    "    print(\"ham\")\n",
    "    print(\"spam\")\n",
    "    print(\"spam\")"
   ]
  },
  {
   "cell_type": "raw",
   "id": "6b7c35be",
   "metadata": {},
   "source": [
    "8. Write code that prints Hello if 1 is stored in spam, prints Howdy if 2 is stored in spam, and prints\n",
    "Greetings! if anything else is stored in spam."
   ]
  },
  {
   "cell_type": "code",
   "execution_count": 3,
   "id": "8cf46c51",
   "metadata": {},
   "outputs": [
    {
     "name": "stdout",
     "output_type": "stream",
     "text": [
      "Greating\n"
     ]
    }
   ],
   "source": [
    "spam = 0\n",
    "\n",
    "if spam==1:\n",
    "    print(\"Hello\")\n",
    "elif spam==2:\n",
    "    print(\"Howdy\")\n",
    "else:\n",
    "    print('Greating')"
   ]
  },
  {
   "cell_type": "markdown",
   "id": "e8e43294",
   "metadata": {},
   "source": [
    "9.If your programme is stuck in an endless loop, what keys you’ll press?"
   ]
  },
  {
   "cell_type": "markdown",
   "id": "3f5a9952",
   "metadata": {},
   "source": [
    "ctrl + C"
   ]
  },
  {
   "cell_type": "markdown",
   "id": "54128502",
   "metadata": {},
   "source": [
    "10. How can you tell the difference between break and continue?"
   ]
  },
  {
   "cell_type": "raw",
   "id": "3e86780a",
   "metadata": {},
   "source": [
    "break keyword is used to break the loop if the specific condition is met \n",
    "and continue keyword is used to skip specific iteration when specific condition is met"
   ]
  },
  {
   "cell_type": "markdown",
   "id": "5fe2b4fc",
   "metadata": {},
   "source": [
    "11. In a for loop, what is the difference between range(10), range(0, 10), and range(0, 10, 1)?"
   ]
  },
  {
   "cell_type": "markdown",
   "id": "dc914d69",
   "metadata": {},
   "source": [
    "above 3 range functions are same there is not difference"
   ]
  },
  {
   "cell_type": "markdown",
   "id": "fc7eb253",
   "metadata": {},
   "source": [
    "12.Write a short program that prints the numbers 1 to 10 using a for loop. Then write an equivalent\n",
    "program that prints the numbers 1 to 10 using a while loop."
   ]
  },
  {
   "cell_type": "code",
   "execution_count": 5,
   "id": "0fdda7b2",
   "metadata": {},
   "outputs": [
    {
     "name": "stdout",
     "output_type": "stream",
     "text": [
      "1\n",
      "2\n",
      "3\n",
      "4\n",
      "5\n",
      "6\n",
      "7\n",
      "8\n",
      "9\n",
      "10\n",
      "1\n",
      "2\n",
      "3\n",
      "4\n",
      "5\n",
      "6\n",
      "7\n",
      "8\n",
      "9\n",
      "10\n"
     ]
    }
   ],
   "source": [
    "#or loop\n",
    "for i in range(1,11):\n",
    "    print(i)\n",
    "    \n",
    "#while loop\n",
    "i=1\n",
    "\n",
    "while i<=10:\n",
    "    print(i)\n",
    "    i+=1\n"
   ]
  },
  {
   "cell_type": "markdown",
   "id": "4b4d6aaa",
   "metadata": {},
   "source": [
    "13. If you had a function named bacon() inside a module named spam, how would you call it after\n",
    "importing spam?"
   ]
  },
  {
   "cell_type": "markdown",
   "id": "58448817",
   "metadata": {},
   "source": [
    "spam.bacon()"
   ]
  }
 ],
 "metadata": {
  "kernelspec": {
   "display_name": "Python 3 (ipykernel)",
   "language": "python",
   "name": "python3"
  },
  "language_info": {
   "codemirror_mode": {
    "name": "ipython",
    "version": 3
   },
   "file_extension": ".py",
   "mimetype": "text/x-python",
   "name": "python",
   "nbconvert_exporter": "python",
   "pygments_lexer": "ipython3",
   "version": "3.9.7"
  }
 },
 "nbformat": 4,
 "nbformat_minor": 5
}
