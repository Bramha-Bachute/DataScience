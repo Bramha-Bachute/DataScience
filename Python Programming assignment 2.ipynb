{
 "cells": [
  {
   "cell_type": "markdown",
   "id": "c2ffd321",
   "metadata": {},
   "source": [
    "1. Write a Python program to convert kilometers to miles?"
   ]
  },
  {
   "cell_type": "code",
   "execution_count": 2,
   "id": "fe34d2bb",
   "metadata": {},
   "outputs": [
    {
     "name": "stdout",
     "output_type": "stream",
     "text": [
      "Enter KM:  10\n"
     ]
    },
    {
     "data": {
      "text/plain": [
       "6.2137119"
      ]
     },
     "execution_count": 2,
     "metadata": {},
     "output_type": "execute_result"
    }
   ],
   "source": [
    "k = int(input(\"Enter KM:  \"))\n",
    "\n",
    "m = (k*0.62137119)\n",
    "\n",
    "m"
   ]
  },
  {
   "cell_type": "code",
   "execution_count": null,
   "id": "7c1bdcc1",
   "metadata": {},
   "outputs": [],
   "source": [
    "2.Write a Python program to convert Celsius to Fahrenheit?"
   ]
  },
  {
   "cell_type": "code",
   "execution_count": 2,
   "id": "8fd84121",
   "metadata": {},
   "outputs": [
    {
     "name": "stdout",
     "output_type": "stream",
     "text": [
      "Enter Temperature in celcius:  32\n"
     ]
    },
    {
     "data": {
      "text/plain": [
       "89.6"
      ]
     },
     "execution_count": 2,
     "metadata": {},
     "output_type": "execute_result"
    }
   ],
   "source": [
    "k = int(input(\"Enter Temperature in celcius:  \"))\n",
    "\n",
    "m = (k*1.8+32)\n",
    "\n",
    "m"
   ]
  },
  {
   "cell_type": "code",
   "execution_count": 2,
   "id": "0c05b2c6",
   "metadata": {},
   "outputs": [
    {
     "name": "stdout",
     "output_type": "stream",
     "text": [
      "Object `calendar` not found.\n",
      "Enter Year for calender2022\n",
      "Enter Month Number(1-12)04\n",
      "     April 2022\n",
      "Mo Tu We Th Fr Sa Su\n",
      "             1  2  3\n",
      " 4  5  6  7  8  9 10\n",
      "11 12 13 14 15 16 17\n",
      "18 19 20 21 22 23 24\n",
      "25 26 27 28 29 30\n",
      "\n"
     ]
    }
   ],
   "source": [
    "3. Write a Python program to display calendar?\n",
    "\n",
    "import calendar\n",
    "\n",
    "year  = int(input('Enter Year for calender'))\n",
    "month = int(input('Enter Month Number(1-12)'))\n",
    "\n",
    "print(calendar.month(year, month))"
   ]
  },
  {
   "cell_type": "code",
   "execution_count": 7,
   "id": "3e19eee6",
   "metadata": {},
   "outputs": [
    {
     "name": "stdout",
     "output_type": "stream",
     "text": [
      "The roots are : first root -2.0 and second root -2.0\n"
     ]
    }
   ],
   "source": [
    "# Q.4 Write a Python program to solve quadratic equation?\n",
    "\n",
    "\n",
    "import math\n",
    "  \n",
    "a = 1\n",
    "b = 4\n",
    "c = 4\n",
    "  \n",
    "dis = (b**2) - (4 * a*c)\n",
    "  \n",
    "\n",
    "ans1 = (-b-math.sqrt(dis))/(2 * a)\n",
    "ans2 = (-b + math.sqrt(dis))/(2 * a)\n",
    "  \n",
    "\n",
    "print('The roots are : ', end='')\n",
    "print('first root', ans1, end=' and ')\n",
    "print('second root', ans2)"
   ]
  },
  {
   "cell_type": "code",
   "execution_count": 8,
   "id": "75354f47",
   "metadata": {},
   "outputs": [
    {
     "data": {
      "text/plain": [
       "(20, 10)"
      ]
     },
     "execution_count": 8,
     "metadata": {},
     "output_type": "execute_result"
    }
   ],
   "source": [
    "# Q.5 Write a Python program to swap two variables without temp variable?\n",
    "\n",
    "a = 10\n",
    "b = 20\n",
    "\n",
    "temp = a\n",
    "\n",
    "a = b\n",
    "\n",
    "b = temp\n",
    "\n",
    "a,b"
   ]
  }
 ],
 "metadata": {
  "kernelspec": {
   "display_name": "Python 3 (ipykernel)",
   "language": "python",
   "name": "python3"
  },
  "language_info": {
   "codemirror_mode": {
    "name": "ipython",
    "version": 3
   },
   "file_extension": ".py",
   "mimetype": "text/x-python",
   "name": "python",
   "nbconvert_exporter": "python",
   "pygments_lexer": "ipython3",
   "version": "3.9.7"
  }
 },
 "nbformat": 4,
 "nbformat_minor": 5
}
