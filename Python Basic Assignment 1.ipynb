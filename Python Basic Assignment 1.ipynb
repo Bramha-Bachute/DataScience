{
 "cells": [
  {
   "cell_type": "code",
   "execution_count": null,
   "id": "298434b1",
   "metadata": {},
   "outputs": [],
   "source": [
    "1. In the below elements which of them are values or an expression? eg:- values can be\n",
    "integer or string and expressions will be mathematical operators.\n",
    "\n",
    "ANS:\n",
    "\n",
    "* - Expression\n",
    "\"hello\" - Value\n",
    "-87.8 - Value\n",
    "- - Expression\n",
    "/ - Expression\n",
    "+ - Expression\n",
    "6 - Value"
   ]
  },
  {
   "cell_type": "code",
   "execution_count": null,
   "id": "29f8f54c",
   "metadata": {},
   "outputs": [],
   "source": [
    "2. What is the difference between string and variable?"
   ]
  },
  {
   "cell_type": "code",
   "execution_count": null,
   "id": "5acdfdd0",
   "metadata": {},
   "outputs": [],
   "source": [
    "Python string is Collection of character, even in python single character inside a quotation(Single or Double or Tripple) \n",
    "is string.\n",
    "\n",
    "where as Variable is container for storing a different type of values or variable is a reference to the value assigned to it\n"
   ]
  },
  {
   "cell_type": "code",
   "execution_count": null,
   "id": "a0476e5d",
   "metadata": {},
   "outputs": [],
   "source": [
    "3. Describe three different data types."
   ]
  },
  {
   "cell_type": "code",
   "execution_count": null,
   "id": "45729cef",
   "metadata": {},
   "outputs": [],
   "source": [
    "Ans: Python has various data type such as int, float, complex, string, list, tuple, set, dictionary.\n",
    "    \n",
    "    Numeric data type has 3 sub type such as int, float, complex. Int data type are used to only store whole numbers, \n",
    "    float data type variables are used store numbers with decimal point.\n",
    "    \n",
    "    Python string is Collection of character, even in python single character inside a quotation(Single or Double or Tripple) \n",
    "    is string. Strings are indexed, immutable in python. Python has various methods to work with string such as len, strip,   index, join and so on.\n",
    "        \n",
    "    Python has 4 build in data types such as List, Tuple, Set, Dict. In these data types multiple values can be assigned to\n",
    "    single variable. These 4 type of data has different properties and methods to work with data."
   ]
  },
  {
   "cell_type": "code",
   "execution_count": null,
   "id": "a1e1eb34",
   "metadata": {},
   "outputs": [],
   "source": [
    "4. What is an expression made up of? What do all expressions do?"
   ]
  },
  {
   "cell_type": "code",
   "execution_count": null,
   "id": "260bdd0a",
   "metadata": {},
   "outputs": [],
   "source": [
    "Expression is made up of using special characters, can be used to perfom math operations or assignments or \n",
    "can be used for comparison between data."
   ]
  },
  {
   "cell_type": "code",
   "execution_count": null,
   "id": "4fbd4164",
   "metadata": {},
   "outputs": [],
   "source": [
    "5. This assignment statements, like spam = 10. What is the difference between an\n",
    "expression and a statement?"
   ]
  },
  {
   "cell_type": "code",
   "execution_count": null,
   "id": "e6b28c0f",
   "metadata": {},
   "outputs": [],
   "source": [
    "statement is python code which is executed by python interpreter and expression are used to perform math operations on data."
   ]
  },
  {
   "cell_type": "code",
   "execution_count": null,
   "id": "58b89745",
   "metadata": {},
   "outputs": [],
   "source": [
    "6. After running the following code, what does the variable bacon contain?\n",
    "bacon = 22\n",
    "bacon + 1"
   ]
  },
  {
   "cell_type": "code",
   "execution_count": null,
   "id": "9c48153e",
   "metadata": {},
   "outputs": [],
   "source": [
    "ans: bacon  = 22"
   ]
  },
  {
   "cell_type": "code",
   "execution_count": null,
   "id": "6026c0f7",
   "metadata": {},
   "outputs": [],
   "source": [
    "7. What should the values of the following two terms be?\n",
    "'spam'+'spamspam'\n",
    "'spam'*3"
   ]
  },
  {
   "cell_type": "code",
   "execution_count": null,
   "id": "28d07414",
   "metadata": {},
   "outputs": [],
   "source": [
    "Ans: 'spam'+'spamspam' = 'spamspamspam'\n",
    "'spam'*3 = 'spamspamspam'"
   ]
  },
  {
   "cell_type": "code",
   "execution_count": null,
   "id": "3426b6d2",
   "metadata": {},
   "outputs": [],
   "source": [
    "8. Why is eggs a valid variable name while 100 is invalid?"
   ]
  },
  {
   "cell_type": "code",
   "execution_count": null,
   "id": "af421dd4",
   "metadata": {},
   "outputs": [],
   "source": [
    "So in python, Variable name should start with letter or underscore characters however it should not start with number\n",
    "hence 1000 is not valid name for variable however eggs is valid name for variable"
   ]
  },
  {
   "cell_type": "code",
   "execution_count": null,
   "id": "d40ca8db",
   "metadata": {},
   "outputs": [],
   "source": [
    "9. What three functions can be used to get the integer, floating-point number, or string\n",
    "version of a value?"
   ]
  },
  {
   "cell_type": "code",
   "execution_count": null,
   "id": "80ff447f",
   "metadata": {},
   "outputs": [],
   "source": [
    "Ans:  int, float, str"
   ]
  },
  {
   "cell_type": "code",
   "execution_count": null,
   "id": "8f1533cf",
   "metadata": {},
   "outputs": [],
   "source": [
    "10. Why does this expression cause an error? How can you fix it?\n",
    "'I have eaten' + 99 + 'burritos'"
   ]
  },
  {
   "cell_type": "code",
   "execution_count": null,
   "id": "7ba01709",
   "metadata": {},
   "outputs": [],
   "source": [
    "In python if data is of same type then only we can use + operator for concatenation however here we are trying to concatenate \n",
    "str and int type of data is not possible at all in python.\n",
    "\n",
    "Solution is we must convert 99 into str type using either str() or \"99\" or '99'\n",
    "\n",
    "'I have eaten' + '99' + 'burritos'"
   ]
  }
 ],
 "metadata": {
  "kernelspec": {
   "display_name": "Python 3 (ipykernel)",
   "language": "python",
   "name": "python3"
  },
  "language_info": {
   "codemirror_mode": {
    "name": "ipython",
    "version": 3
   },
   "file_extension": ".py",
   "mimetype": "text/x-python",
   "name": "python",
   "nbconvert_exporter": "python",
   "pygments_lexer": "ipython3",
   "version": "3.9.7"
  }
 },
 "nbformat": 4,
 "nbformat_minor": 5
}
