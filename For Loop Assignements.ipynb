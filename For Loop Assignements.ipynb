{
 "cells": [
  {
   "cell_type": "code",
   "execution_count": 6,
   "id": "e4d8552b",
   "metadata": {},
   "outputs": [
    {
     "name": "stdout",
     "output_type": "stream",
     "text": [
      "iNeuron \n",
      "iNeuron iNeuron \n",
      "iNeuron iNeuron iNeuron \n",
      "iNeuron iNeuron iNeuron iNeuron \n",
      "iNeuron iNeuron iNeuron iNeuron iNeuron \n"
     ]
    }
   ],
   "source": [
    "for i in range(5):\n",
    "    for j in range(0,i+1):\n",
    "        print(\"iNeuron\", end=\" \")\n",
    "    print()"
   ]
  },
  {
   "cell_type": "code",
   "execution_count": 54,
   "id": "adef5533",
   "metadata": {},
   "outputs": [
    {
     "name": "stdout",
     "output_type": "stream",
     "text": [
      "               \n",
      "            iNeuron \n",
      "         iNeuron iNeuron \n",
      "      iNeuron iNeuron iNeuron \n",
      "   iNeuron iNeuron iNeuron iNeuron \n"
     ]
    }
   ],
   "source": [
    "s = 'iNeuron'\n",
    "n = 5\n",
    "for i in range(n):\n",
    "    for k in range(n-i):\n",
    "        print(\" \"*(n-2), end=\"\")\n",
    "    for j in range(0,i):\n",
    "        print(s, end=' ')\n",
    "    print()\n",
    "        "
   ]
  },
  {
   "cell_type": "code",
   "execution_count": 35,
   "id": "ed5f094c",
   "metadata": {},
   "outputs": [],
   "source": [
    "l = [[1,2,3,4] , (2,3,4,5,6) , (3,4,5,6,7) , set([23,4,5,45,4,4,5,45,45,4,5]) , {'k1' :\"sudh\" , \"k2\" : \"ineuron\",\"k3\":\n",
    "            \"kumar\" , 3:6 , 7:8} , [\"ineuron\" , \"data science \"]]"
   ]
  },
  {
   "cell_type": "code",
   "execution_count": 36,
   "id": "2a3b2615",
   "metadata": {},
   "outputs": [
    {
     "data": {
      "text/plain": [
       "[[1, 2, 3, 4],\n",
       " (2, 3, 4, 5, 6),\n",
       " (3, 4, 5, 6, 7),\n",
       " {4, 5, 23, 45},\n",
       " {'k1': 'sudh', 'k2': 'ineuron', 'k3': 'kumar', 3: 6, 7: 8},\n",
       " ['ineuron', 'data science ']]"
      ]
     },
     "execution_count": 36,
     "metadata": {},
     "output_type": "execute_result"
    }
   ],
   "source": [
    "l"
   ]
  },
  {
   "cell_type": "markdown",
   "id": "7db3fdc2",
   "metadata": {},
   "source": [
    "Try to extract all the list entity "
   ]
  },
  {
   "cell_type": "code",
   "execution_count": 40,
   "id": "7486ffdf",
   "metadata": {},
   "outputs": [
    {
     "name": "stdout",
     "output_type": "stream",
     "text": [
      "[1, 2, 3, 4]['ineuron', 'data science ']"
     ]
    }
   ],
   "source": [
    "for i in l:\n",
    "    if type(i)==list:\n",
    "        print(i, end='')"
   ]
  },
  {
   "cell_type": "markdown",
   "id": "655bb920",
   "metadata": {},
   "source": [
    "Try to extract all the dict enteties"
   ]
  },
  {
   "cell_type": "code",
   "execution_count": 41,
   "id": "3c00284c",
   "metadata": {},
   "outputs": [
    {
     "name": "stdout",
     "output_type": "stream",
     "text": [
      "{'k1': 'sudh', 'k2': 'ineuron', 'k3': 'kumar', 3: 6, 7: 8}"
     ]
    }
   ],
   "source": [
    "for i in l:\n",
    "    if type(i)==dict:\n",
    "        print(i, end='')"
   ]
  },
  {
   "cell_type": "markdown",
   "id": "83c84fc0",
   "metadata": {},
   "source": [
    "Try to extract all the tuples entities"
   ]
  },
  {
   "cell_type": "code",
   "execution_count": 42,
   "id": "37f7cc8a",
   "metadata": {},
   "outputs": [
    {
     "name": "stdout",
     "output_type": "stream",
     "text": [
      "(2, 3, 4, 5, 6)(3, 4, 5, 6, 7)"
     ]
    }
   ],
   "source": [
    "for i in l:\n",
    "    if type(i)==tuple:\n",
    "        print(i, end='')"
   ]
  },
  {
   "cell_type": "markdown",
   "id": "33f8f398",
   "metadata": {},
   "source": [
    " Try to extract all the numerical data it may b a part of dict key and values "
   ]
  },
  {
   "cell_type": "code",
   "execution_count": 43,
   "id": "9ae10a8f",
   "metadata": {},
   "outputs": [
    {
     "data": {
      "text/plain": [
       "[[1, 2, 3, 4],\n",
       " (2, 3, 4, 5, 6),\n",
       " (3, 4, 5, 6, 7),\n",
       " {4, 5, 23, 45},\n",
       " {'k1': 'sudh', 'k2': 'ineuron', 'k3': 'kumar', 3: 6, 7: 8},\n",
       " ['ineuron', 'data science ']]"
      ]
     },
     "execution_count": 43,
     "metadata": {},
     "output_type": "execute_result"
    }
   ],
   "source": [
    "l"
   ]
  },
  {
   "cell_type": "code",
   "execution_count": 45,
   "id": "b7b92309",
   "metadata": {},
   "outputs": [
    {
     "name": "stdout",
     "output_type": "stream",
     "text": [
      "1\n",
      "2\n",
      "3\n",
      "4\n",
      "2\n",
      "3\n",
      "4\n",
      "5\n",
      "6\n",
      "3\n",
      "4\n",
      "5\n",
      "6\n",
      "7\n",
      "45\n",
      "4\n",
      "5\n",
      "23\n",
      "3\n",
      "6\n",
      "7\n",
      "8\n"
     ]
    }
   ],
   "source": [
    "for i in range(len(l)):\n",
    "    if type(l[i])==list or type(l[i])==tuple or type(l[i])==set:\n",
    "        for j in l[i]:\n",
    "            if type(j)== int or type(j)==float:\n",
    "                print(j)\n",
    "    elif type(l[i])== dict:\n",
    "        for j,k in l[i].items():\n",
    "            if type(j)==int or type(k)==int or type(j)==float or type(k)==float:\n",
    "                print(j)\n",
    "                print(k)\n",
    "                "
   ]
  },
  {
   "cell_type": "markdown",
   "id": "ad3235a1",
   "metadata": {},
   "source": [
    "Try to give summation of all the numeric data "
   ]
  },
  {
   "cell_type": "code",
   "execution_count": 46,
   "id": "4220f8ea",
   "metadata": {},
   "outputs": [
    {
     "name": "stdout",
     "output_type": "stream",
     "text": [
      "156\n"
     ]
    }
   ],
   "source": [
    "sum = 0\n",
    "for i in range(len(l)):\n",
    "    if type(l[i])==list or type(l[i])==tuple or type(l[i])==set:\n",
    "        for j in l[i]:\n",
    "            if type(j)== int or type(j)==float:\n",
    "                sum = sum+j\n",
    "    elif type(l[i])== dict:\n",
    "        for j,k in l[i].items():\n",
    "            if type(j)==int or type(k)==int or type(j)==float or type(k)==float:\n",
    "                sum = sum+j\n",
    "                sum = sum+k\n",
    "\n",
    "print(sum)"
   ]
  },
  {
   "cell_type": "markdown",
   "id": "c28e792b",
   "metadata": {},
   "source": [
    "Try to filter out all the odd values out all numeric data which is a part of a list"
   ]
  },
  {
   "cell_type": "code",
   "execution_count": 53,
   "id": "ffd1b643",
   "metadata": {},
   "outputs": [
    {
     "name": "stdout",
     "output_type": "stream",
     "text": [
      "3\n"
     ]
    }
   ],
   "source": [
    "for i in l:\n",
    "    if type(i)==list:\n",
    "        for j in i:\n",
    "            if type(j)==int:\n",
    "                if j>1 and (j%2!=0):\n",
    "                    print(j)\n",
    "                "
   ]
  },
  {
   "cell_type": "markdown",
   "id": "6cf276b6",
   "metadata": {},
   "source": [
    "Try to extract \"ineruon\" out of this data"
   ]
  },
  {
   "cell_type": "code",
   "execution_count": 54,
   "id": "f20ae949",
   "metadata": {},
   "outputs": [
    {
     "name": "stdout",
     "output_type": "stream",
     "text": [
      "ineuron\n"
     ]
    }
   ],
   "source": [
    "for i in l:\n",
    "    if type(i)==list:\n",
    "        for j in i:\n",
    "            if j ==\"ineuron\":\n",
    "                print(j)"
   ]
  },
  {
   "cell_type": "markdown",
   "id": "696e76ae",
   "metadata": {},
   "source": [
    "Try to find out a number of occurances of all the data"
   ]
  },
  {
   "cell_type": "code",
   "execution_count": 59,
   "id": "508779cb",
   "metadata": {},
   "outputs": [
    {
     "name": "stdout",
     "output_type": "stream",
     "text": [
      "{1, 2, 3, 4, 5, 6, 7, 'ineuron', 8, 'data science ', 'kumar', 45, 'sudh', 'k1', 23, 'k2', 'k3'}\n",
      "1 : 1\n",
      "2 : 2\n",
      "3 : 4\n",
      "4 : 4\n",
      "5 : 3\n",
      "6 : 3\n",
      "7 : 2\n",
      "ineuron : 2\n",
      "8 : 1\n",
      "data science  : 1\n",
      "kumar : 1\n",
      "45 : 1\n",
      "sudh : 1\n",
      "k1 : 1\n",
      "23 : 1\n",
      "k2 : 1\n",
      "k3 : 1\n"
     ]
    }
   ],
   "source": [
    "l1 = []\n",
    "\n",
    "for i in range(len(l)):\n",
    "    if type(l[i])==list or type(l[i])==tuple or type(l[i])==set:\n",
    "        for j in l[i]:\n",
    "            l1.append(j)\n",
    "    elif type(l[i])== dict:\n",
    "        for j,k in l[i].items():\n",
    "            l1.append(j)\n",
    "            l1.append(k)\n",
    "\n",
    "s1 = set(l1)\n",
    "\n",
    "print(s1)\n",
    "\n",
    "for i in s1:\n",
    "    print(i, \":\", l1.count(i))\n",
    "    "
   ]
  },
  {
   "cell_type": "markdown",
   "id": "a944f144",
   "metadata": {},
   "source": [
    "Try to find out number of keys in dict element"
   ]
  },
  {
   "cell_type": "code",
   "execution_count": 60,
   "id": "8c81b08f",
   "metadata": {},
   "outputs": [
    {
     "name": "stdout",
     "output_type": "stream",
     "text": [
      "5\n"
     ]
    }
   ],
   "source": [
    "l1=[]\n",
    "for i in range(len(l)):\n",
    "    if type(l[i])==list or type(l[i])==tuple or type(l[i])==set:\n",
    "        for j in l[i]:\n",
    "            pass\n",
    "    elif type(l[i])== dict:\n",
    "        for j,k in l[i].items():\n",
    "            l1.append(j)\n",
    "            #l1.append(k)\n",
    "        \n",
    "print(len(l1))"
   ]
  },
  {
   "cell_type": "markdown",
   "id": "4209d9fa",
   "metadata": {},
   "source": [
    "Try to filter out all the string data "
   ]
  },
  {
   "cell_type": "code",
   "execution_count": 2,
   "id": "a43f3070",
   "metadata": {},
   "outputs": [
    {
     "name": "stdout",
     "output_type": "stream",
     "text": [
      "k1\n",
      "sudh\n",
      "k2\n",
      "ineuron\n",
      "k3\n",
      "kumar\n",
      "ineuron\n",
      "data science \n"
     ]
    }
   ],
   "source": [
    "l = [[1,2,3,4] , (2,3,4,5,6) , (3,4,5,6,7) , set([23,4,5,45,4,4,5,45,45,4,5]) , {'k1' :\"sudh\" , \"k2\" : \"ineuron\",\"k3\":\n",
    "            \"kumar\" , 3:6 , 7:8} , [\"ineuron\" , \"data science \"]]\n",
    "\n",
    "for i in range(len(l)):\n",
    "    if type(l[i])==list or type(l[i])==tuple or type(l[i])==set:\n",
    "        for j in l[i]:\n",
    "            if type(j)== str:\n",
    "                print(j)\n",
    "    elif type(l[i])== dict:\n",
    "        for j,k in l[i].items():\n",
    "            if type(j)==str or type(k)==str:\n",
    "                print(j)\n",
    "                print(k)"
   ]
  },
  {
   "cell_type": "markdown",
   "id": "8bb683e6",
   "metadata": {},
   "source": [
    "Try to Find  out alphanum in data"
   ]
  },
  {
   "cell_type": "code",
   "execution_count": 12,
   "id": "05593b54",
   "metadata": {},
   "outputs": [
    {
     "name": "stdout",
     "output_type": "stream",
     "text": [
      "k1\n",
      "sudh\n",
      "k2\n",
      "ineuron\n",
      "k3\n",
      "kumar\n",
      "ineuron\n"
     ]
    }
   ],
   "source": [
    "for i in l:\n",
    "    if type(i)==list or type(i)==tuple or set(i)==set:\n",
    "        for j in i:\n",
    "            if type(j)==str:\n",
    "                if j.isalnum():\n",
    "                    print(j)\n",
    "    elif type(i)==dict:\n",
    "        for j,k in i.items():\n",
    "            if type(i)==str or type(j)==str:\n",
    "                if j.isalnum() or k.isalnum():\n",
    "                    print(j)\n",
    "                    print(k)"
   ]
  },
  {
   "cell_type": "markdown",
   "id": "42687b7a",
   "metadata": {},
   "source": [
    "Try to find out multiplication of all numeric value in  the individual collection inside dataset "
   ]
  },
  {
   "cell_type": "code",
   "execution_count": 13,
   "id": "03308181",
   "metadata": {},
   "outputs": [
    {
     "data": {
      "text/plain": [
       "[[1, 2, 3, 4],\n",
       " (2, 3, 4, 5, 6),\n",
       " (3, 4, 5, 6, 7),\n",
       " {4, 5, 23, 45},\n",
       " {'k1': 'sudh', 'k2': 'ineuron', 'k3': 'kumar', 3: 6, 7: 8},\n",
       " ['ineuron', 'data science ']]"
      ]
     },
     "execution_count": 13,
     "metadata": {},
     "output_type": "execute_result"
    }
   ],
   "source": [
    "l"
   ]
  },
  {
   "cell_type": "code",
   "execution_count": 22,
   "id": "69a05b7e",
   "metadata": {},
   "outputs": [
    {
     "name": "stdout",
     "output_type": "stream",
     "text": [
      "[1, 2, 3, 4] : 24\n",
      "(2, 3, 4, 5, 6) : 720\n",
      "(3, 4, 5, 6, 7) : 2520\n",
      "{45, 4, 5, 23} : 20700\n",
      "{'k1': 'sudh', 'k2': 'ineuron', 'k3': 'kumar', 3: 6, 7: 8} : 1008\n",
      "['ineuron', 'data science '] : 1\n"
     ]
    }
   ],
   "source": [
    "for i in l:\n",
    "    mult = 1\n",
    "    if type(i)==list or type(i)==tuple or type(i)==set:\n",
    "        for j in i:\n",
    "            if type(j)==int:\n",
    "                mult = mult*j\n",
    "                \n",
    "    elif type(i)==dict:\n",
    "        for j, k in i.items():\n",
    "            if type(j)==int or type(k)==int:\n",
    "                mult = mult*j\n",
    "                mult = mult*k\n",
    "    print(i,\":\", mult )"
   ]
  },
  {
   "cell_type": "code",
   "execution_count": 24,
   "id": "3584b174",
   "metadata": {},
   "outputs": [
    {
     "name": "stdout",
     "output_type": "stream",
     "text": [
      "[1, 2, 3, 4, 2, 3, 4, 5, 6, 3, 4, 5, 6, 7, 45, 4, 5, 23, 'k1', 'sudh', 'k2', 'ineuron', 'k3', 'kumar', 3, 6, 7, 8, 'ineuron', 'data science ']\n"
     ]
    }
   ],
   "source": [
    "l1 = []\n",
    "\n",
    "for i in range(len(l)):\n",
    "    if type(l[i])==list or type(l[i])==tuple or type(l[i])==set:\n",
    "        for j in l[i]:\n",
    "            l1.append(j)\n",
    "    elif type(l[i])== dict:\n",
    "        for j,k in l[i].items():\n",
    "            l1.append(j)\n",
    "            l1.append(k)\n",
    "\n",
    "print(l1)"
   ]
  }
 ],
 "metadata": {
  "kernelspec": {
   "display_name": "Python 3 (ipykernel)",
   "language": "python",
   "name": "python3"
  },
  "language_info": {
   "codemirror_mode": {
    "name": "ipython",
    "version": 3
   },
   "file_extension": ".py",
   "mimetype": "text/x-python",
   "name": "python",
   "nbconvert_exporter": "python",
   "pygments_lexer": "ipython3",
   "version": "3.9.7"
  }
 },
 "nbformat": 4,
 "nbformat_minor": 5
}
