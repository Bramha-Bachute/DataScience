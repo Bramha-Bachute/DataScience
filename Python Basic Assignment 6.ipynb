{
 "cells": [
  {
   "cell_type": "code",
   "execution_count": null,
   "id": "b312af8b",
   "metadata": {},
   "outputs": [],
   "source": [
    "#Q1. What are escape characters, and how do you use them?\n",
    "'''\n",
    "Escape character allow to insert a characters in string that are not allowed. \n",
    "To use Quatation in string escape charcters(\\ or \\\\ can be used)\n",
    "\n",
    "1. Single Quotation      \\'\\'\n",
    "2. Backslash             \\\\\n",
    "3. new line              \\n\n",
    "4. tab                   \\t\n",
    "5. backspace             \\b\n",
    "6. return carriage       \\r\n",
    "7. \n",
    "\n",
    "'''"
   ]
  },
  {
   "cell_type": "code",
   "execution_count": null,
   "id": "06d6a728",
   "metadata": {},
   "outputs": [],
   "source": [
    "#Q2. What do the escape characters n and t stand for?\n",
    "\n",
    "new line              \\n\n",
    "tab                   \\t"
   ]
  },
  {
   "cell_type": "code",
   "execution_count": null,
   "id": "ece3c723",
   "metadata": {},
   "outputs": [],
   "source": [
    "#Q3. What is the way to include backslash characters in a string?\n",
    "\n",
    "\\\\ or \\b can be used in string to perform backslash"
   ]
  },
  {
   "cell_type": "code",
   "execution_count": null,
   "id": "714526c4",
   "metadata": {},
   "outputs": [],
   "source": [
    "#Q4. The string \"Howl's Moving Castle\" is a correct value. Why isn't the single quote character in the word Howl's not escaped a problem?\n",
    "\n",
    "if String is in Double quotation then no any issue to use single quote in the string"
   ]
  },
  {
   "cell_type": "code",
   "execution_count": null,
   "id": "8b0195ab",
   "metadata": {},
   "outputs": [],
   "source": [
    "#Q5. How do you write a string of newlines if you don't want to use the n character?\n",
    "\n",
    "'''we can use \n",
    "    tripple \n",
    "    Quotation for multiline string\n",
    "'''"
   ]
  },
  {
   "cell_type": "code",
   "execution_count": null,
   "id": "fe7b686a",
   "metadata": {},
   "outputs": [],
   "source": [
    "# Q6. What are the values of the given expressions?\n",
    "\n",
    "'Hello, world!'[1] = 'e'\n",
    "'Hello, world!'[0:5]= 'Hello'\n",
    "'Hello, world!'[:5] = 'Hello'\n",
    "'Hello, world!'[3:] = 'lo, world!'"
   ]
  },
  {
   "cell_type": "code",
   "execution_count": null,
   "id": "9a84afa1",
   "metadata": {},
   "outputs": [],
   "source": [
    "#Q.7 What are the values of the following expressions?\n",
    "'Hello'.upper() = 'HELLO'\n",
    "'Hello'.upper().isupper() = 'True'\n",
    "'Hello'.upper().lower() = 'hello'"
   ]
  },
  {
   "cell_type": "code",
   "execution_count": null,
   "id": "867f4ebb",
   "metadata": {},
   "outputs": [],
   "source": [
    "# Q.8 What are the values of the following expressions?\n",
    "\n",
    "#'Remember, remember, the fifth of July.'.split() = ['Remember,', 'remember,', 'the', 'fifth', 'of', 'July.']\n",
    "\n",
    "#'-'.join('There can only one.'.split()) = 'There-can-only-one.'"
   ]
  },
  {
   "cell_type": "code",
   "execution_count": null,
   "id": "0e135fac",
   "metadata": {},
   "outputs": [],
   "source": [
    "# Q.9 What are the methods for right-justifying, left-justifying, and centering a string?\n",
    "\n",
    "str.ljust()\n",
    "str.rjust()\n",
    "str.center()"
   ]
  },
  {
   "cell_type": "code",
   "execution_count": null,
   "id": "1e23bd1e",
   "metadata": {},
   "outputs": [],
   "source": [
    "# Q.10 What is the best way to remove whitespace characters from the start or end?\n",
    "\n",
    "use strip() method of string"
   ]
  }
 ],
 "metadata": {
  "kernelspec": {
   "display_name": "Python 3 (ipykernel)",
   "language": "python",
   "name": "python3"
  },
  "language_info": {
   "codemirror_mode": {
    "name": "ipython",
    "version": 3
   },
   "file_extension": ".py",
   "mimetype": "text/x-python",
   "name": "python",
   "nbconvert_exporter": "python",
   "pygments_lexer": "ipython3",
   "version": "3.9.7"
  }
 },
 "nbformat": 4,
 "nbformat_minor": 5
}
