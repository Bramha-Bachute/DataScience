{
 "cells": [
  {
   "cell_type": "code",
   "execution_count": null,
   "id": "d21300ff",
   "metadata": {},
   "outputs": [],
   "source": [
    "1. Why are functions advantageous to have in your programs?"
   ]
  },
  {
   "cell_type": "code",
   "execution_count": null,
   "id": "c66bc774",
   "metadata": {},
   "outputs": [],
   "source": [
    "To do the same operation we donot need to write code again and again using functions."
   ]
  },
  {
   "cell_type": "code",
   "execution_count": null,
   "id": "774a177e",
   "metadata": {},
   "outputs": [],
   "source": [
    "2. When does the code in a function run: when it's specified or when it's called?"
   ]
  },
  {
   "cell_type": "markdown",
   "id": "806c281f",
   "metadata": {},
   "source": [
    "When we give a call to function by using function name followed by parenthesis then function code will be executed."
   ]
  },
  {
   "cell_type": "code",
   "execution_count": null,
   "id": "d536eda9",
   "metadata": {},
   "outputs": [],
   "source": [
    "3. What statement creates a function?"
   ]
  },
  {
   "cell_type": "code",
   "execution_count": null,
   "id": "def3b00b",
   "metadata": {},
   "outputs": [],
   "source": [
    "def functionName(): << This statement create a function"
   ]
  },
  {
   "cell_type": "code",
   "execution_count": null,
   "id": "cdc53c33",
   "metadata": {},
   "outputs": [],
   "source": [
    "4. What is the difference between a function and a function call?"
   ]
  },
  {
   "cell_type": "code",
   "execution_count": null,
   "id": "61495979",
   "metadata": {},
   "outputs": [],
   "source": [
    "Function is block of code is written, which is defined using def keyword in python however function call means we are using \n",
    "the block of code defined under function to perform a certain action."
   ]
  },
  {
   "cell_type": "code",
   "execution_count": null,
   "id": "624e34dc",
   "metadata": {},
   "outputs": [],
   "source": [
    "5. How many global scopes are there in a Python program? How many local scopes?"
   ]
  },
  {
   "cell_type": "code",
   "execution_count": null,
   "id": "24573e5b",
   "metadata": {},
   "outputs": [],
   "source": [
    "There is only one global and one local scope"
   ]
  },
  {
   "cell_type": "code",
   "execution_count": null,
   "id": "d963a942",
   "metadata": {},
   "outputs": [],
   "source": [
    "6. What happens to variables in a local scope when the function call returns?"
   ]
  },
  {
   "cell_type": "code",
   "execution_count": null,
   "id": "92aff65b",
   "metadata": {},
   "outputs": [],
   "source": [
    "When function call returns the value the local variables will be destroyed."
   ]
  },
  {
   "cell_type": "code",
   "execution_count": null,
   "id": "52d60a28",
   "metadata": {},
   "outputs": [],
   "source": [
    "7. What is the concept of a return value? Is it possible to have a return value in an expression?"
   ]
  },
  {
   "cell_type": "code",
   "execution_count": null,
   "id": "f1da061f",
   "metadata": {},
   "outputs": [],
   "source": [
    "Function takes arguments and return a value after performing an operation when function is called. \n",
    "Yes it possible to have an return value un an expression."
   ]
  },
  {
   "cell_type": "code",
   "execution_count": null,
   "id": "559c27f1",
   "metadata": {},
   "outputs": [],
   "source": [
    "8. If a function does not have a return statement, what is the return value of a call to that function?"
   ]
  },
  {
   "cell_type": "code",
   "execution_count": null,
   "id": "6f862e0c",
   "metadata": {},
   "outputs": [],
   "source": [
    "Nothing will return by function if it doesnot have an return statement"
   ]
  },
  {
   "cell_type": "code",
   "execution_count": null,
   "id": "970c27e8",
   "metadata": {},
   "outputs": [],
   "source": [
    "9. How do you make a function variable refer to the global variable?"
   ]
  },
  {
   "cell_type": "code",
   "execution_count": null,
   "id": "55d19605",
   "metadata": {},
   "outputs": [],
   "source": [
    "Using global keyword"
   ]
  },
  {
   "cell_type": "code",
   "execution_count": null,
   "id": "6c40b4fc",
   "metadata": {},
   "outputs": [],
   "source": [
    "10. What is the data type of None?"
   ]
  },
  {
   "cell_type": "code",
   "execution_count": null,
   "id": "66530e05",
   "metadata": {},
   "outputs": [],
   "source": [
    "Nonetype"
   ]
  },
  {
   "cell_type": "code",
   "execution_count": null,
   "id": "f5972b08",
   "metadata": {},
   "outputs": [],
   "source": [
    "11. What does the sentence import are all your pets name deric do?#Not getting question"
   ]
  },
  {
   "cell_type": "code",
   "execution_count": null,
   "id": "b1f76224",
   "metadata": {},
   "outputs": [],
   "source": [
    "12. If you had a bacon() feature in a spam module, what would you call it after importing spam?"
   ]
  },
  {
   "cell_type": "code",
   "execution_count": null,
   "id": "e31260b1",
   "metadata": {},
   "outputs": [],
   "source": [
    "spam.bacon()"
   ]
  },
  {
   "cell_type": "code",
   "execution_count": null,
   "id": "c937418c",
   "metadata": {},
   "outputs": [],
   "source": [
    "13. What can you do to save a programme from crashing if it encounters an error?"
   ]
  },
  {
   "cell_type": "code",
   "execution_count": null,
   "id": "3b3a7e53",
   "metadata": {},
   "outputs": [],
   "source": [
    "use try and except statement to avoid crashing"
   ]
  },
  {
   "cell_type": "code",
   "execution_count": null,
   "id": "6a0c4aa6",
   "metadata": {},
   "outputs": [],
   "source": [
    "14. What is the purpose of the try clause? What is the purpose of the except clause?"
   ]
  },
  {
   "cell_type": "code",
   "execution_count": null,
   "id": "37dbdede",
   "metadata": {},
   "outputs": [],
   "source": [
    "Try clause is used to avoid crashing of code if the error is occured and if error occured except clause \n",
    "is executed and programme will continue"
   ]
  }
 ],
 "metadata": {
  "kernelspec": {
   "display_name": "Python 3 (ipykernel)",
   "language": "python",
   "name": "python3"
  },
  "language_info": {
   "codemirror_mode": {
    "name": "ipython",
    "version": 3
   },
   "file_extension": ".py",
   "mimetype": "text/x-python",
   "name": "python",
   "nbconvert_exporter": "python",
   "pygments_lexer": "ipython3",
   "version": "3.9.7"
  }
 },
 "nbformat": 4,
 "nbformat_minor": 5
}
