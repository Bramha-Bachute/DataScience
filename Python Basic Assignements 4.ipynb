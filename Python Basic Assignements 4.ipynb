{
 "cells": [
  {
   "cell_type": "code",
   "execution_count": null,
   "id": "b2d297c0",
   "metadata": {},
   "outputs": [],
   "source": [
    "#Q1. What exactly is []?\n",
    "\n",
    "[] is empty list"
   ]
  },
  {
   "cell_type": "code",
   "execution_count": 1,
   "id": "67cb514b",
   "metadata": {},
   "outputs": [
    {
     "name": "stdout",
     "output_type": "stream",
     "text": [
      "[2, 4, 'Hello', 8, 810]\n"
     ]
    }
   ],
   "source": [
    "#Q2. In a list of values stored in a variable called spam, how would you assign the value 'hello' as the\n",
    "#third value? (Assume [2, 4, 6, 8, 10] are in spam.)\n",
    "\n",
    "l = [2,4,6,8,810]\n",
    "\n",
    "l[2] = \"Hello\"\n",
    "\n",
    "print(l)"
   ]
  },
  {
   "cell_type": "code",
   "execution_count": 5,
   "id": "a49630f9",
   "metadata": {},
   "outputs": [],
   "source": [
    "#Q3. What is the value of spam[int(int('3' * 2) / 11)]?\n",
    "\n",
    "spam = ['a','b','c','d']\n",
    "\n",
    "spam[int(int('3'*2)/100)] = 'a'\n",
    "\n",
    "#Q4. What is the value of spam[-1]?\n",
    "\n",
    "spam[-1] = 'd'\n",
    "\n",
    "#Q5. What is the value of spam[:2]?\n",
    "\n",
    "spam[:2] = ['a', 'b']"
   ]
  },
  {
   "cell_type": "code",
   "execution_count": null,
   "id": "16d4b536",
   "metadata": {},
   "outputs": [],
   "source": [
    "bacon  = [3.14,'cat',11,'cat', True]"
   ]
  },
  {
   "cell_type": "code",
   "execution_count": null,
   "id": "9655aadd",
   "metadata": {},
   "outputs": [],
   "source": [
    "bacon  = [3.14,'cat',11,'cat', True]\n",
    "\n",
    "# Q6. What is the value of bacon.index('cat')?\n",
    "\n",
    "bacon.index('cat') = 1"
   ]
  },
  {
   "cell_type": "code",
   "execution_count": null,
   "id": "9379d0ab",
   "metadata": {},
   "outputs": [],
   "source": [
    "# Q.7 How does bacon.append(99) change the look of the list value in bacon?\n",
    "\n",
    "bacon  = [3.14,'cat',11,'cat', True]\n",
    "\n",
    "bacon.append(99) will add 99 as value to list at the end"
   ]
  },
  {
   "cell_type": "code",
   "execution_count": null,
   "id": "f8f276fe",
   "metadata": {},
   "outputs": [],
   "source": [
    "# Q.8 How does bacon.remove('cat') change the look of the list in bacon?\n",
    "\n",
    "bacon  = [3.14,'cat',11,'cat', True]\n",
    "\n",
    "bacon.remove('cat') will remove cat value from list at index 1"
   ]
  },
  {
   "cell_type": "code",
   "execution_count": null,
   "id": "835d41ab",
   "metadata": {},
   "outputs": [],
   "source": [
    "# Q.9 What are the list concatenation and list replication operators?\n",
    "\n",
    "ANS: + and *"
   ]
  },
  {
   "cell_type": "code",
   "execution_count": 14,
   "id": "a1d534b5",
   "metadata": {},
   "outputs": [],
   "source": [
    "# Q.10 What is difference between the list methods append() and insert()?\n",
    "\n",
    "append method add value to the list at the end of list by default and \n",
    "insert will take index as an arguments and insert value at specified index\n"
   ]
  },
  {
   "cell_type": "code",
   "execution_count": null,
   "id": "91e4810a",
   "metadata": {},
   "outputs": [],
   "source": [
    "# Q.11 What are the two methods for removing items from a list?\n",
    "\n",
    "pop and remove"
   ]
  },
  {
   "cell_type": "code",
   "execution_count": null,
   "id": "a5b25312",
   "metadata": {},
   "outputs": [],
   "source": [
    "# Q.12 Describe how list values and string values are identical.\n",
    "\n",
    "list and string can have indexes and can be sliced by index.\n",
    "\n",
    "both can be looped using for and while loop\n"
   ]
  },
  {
   "cell_type": "code",
   "execution_count": null,
   "id": "08e1b8a6",
   "metadata": {},
   "outputs": [],
   "source": [
    "# Q.13 What's the difference between tuples and lists?\n",
    "\n",
    "tuple and list are used to store values in single variable\n",
    "\n",
    "1. tuple values written in () brackets and [] are used to for list\n",
    "2. tuples are immutable and list are mutable"
   ]
  },
  {
   "cell_type": "code",
   "execution_count": null,
   "id": "3eb65d69",
   "metadata": {},
   "outputs": [],
   "source": [
    "#Q.14 How do you type a tuple value that only contains the integer 42?\n",
    "\n",
    "t = (42,)"
   ]
  },
  {
   "cell_type": "code",
   "execution_count": null,
   "id": "38bf9761",
   "metadata": {},
   "outputs": [],
   "source": [
    "#Q.15 How do you get a list value's tuple form? How do you get a tuple value's list form?\n",
    "\n",
    "using tuple() and list() constructor\n",
    "\n",
    "t1 = (1,2,3,4) => l1 = list((t1))\n",
    "\n",
    "l11 = [1,2,3,4] => t11 =tuple((t1))"
   ]
  },
  {
   "cell_type": "code",
   "execution_count": null,
   "id": "19384b28",
   "metadata": {},
   "outputs": [],
   "source": [
    "# Q.16 Variables that \"contain\" list values are not necessarily lists themselves. Instead, what do they contain?\n",
    "\n",
    "variable contains reference as an index for list values"
   ]
  },
  {
   "cell_type": "code",
   "execution_count": null,
   "id": "bed2d3c3",
   "metadata": {},
   "outputs": [],
   "source": [
    "# Q.17 How do you distinguish between copy.copy() and copy.deepcopy()?\n",
    "\n",
    "The copy.copy() function will create copy of a list, \n",
    "The copy.deepcopy() function will do a deep copy of a list. only copy.deepcopy() will duplicate any lists inside the \n",
    "list"
   ]
  }
 ],
 "metadata": {
  "kernelspec": {
   "display_name": "Python 3 (ipykernel)",
   "language": "python",
   "name": "python3"
  },
  "language_info": {
   "codemirror_mode": {
    "name": "ipython",
    "version": 3
   },
   "file_extension": ".py",
   "mimetype": "text/x-python",
   "name": "python",
   "nbconvert_exporter": "python",
   "pygments_lexer": "ipython3",
   "version": "3.9.7"
  }
 },
 "nbformat": 4,
 "nbformat_minor": 5
}
